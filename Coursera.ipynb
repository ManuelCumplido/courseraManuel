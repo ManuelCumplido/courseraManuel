{
 "cells": [
  {
   "cell_type": "markdown",
   "metadata": {},
   "source": [
    "<center>\n",
    "    <img src=\"https://cf-courses-data.s3.us.cloud-object-storage.appdomain.cloud/IBMDeveloperSkillsNetwork-DS0105EN-SkillsNetwork/labs/Module2/images/SN_web_lightmode.png\" width=\"300\" alt=\"cognitiveclass.ai logo\">\n",
    "</center>\n"
   ]
  },
  {
   "cell_type": "markdown",
   "metadata": {},
   "source": [
    "#### Add your code below following the instructions given in the course\n"
   ]
  },
  {
   "cell_type": "markdown",
   "metadata": {},
   "source": [
    "# Notebook-Peer-graded Assignment"
   ]
  },
  {
   "cell_type": "markdown",
   "metadata": {},
   "source": [
    "## Introduction\n",
    "This is the introduction for my notebook.\n",
    "In this notebook, I am going to explain about this work and how this will help me to become a Data Scientists"
   ]
  },
  {
   "cell_type": "markdown",
   "metadata": {},
   "source": [
    "# Data Science Languages\n",
    "\n",
    "Here are some of the most commonly used programming languages in Data Science:\n",
    "\n",
    "1. **Python**  \n",
    "2. **R**  \n",
    "3. **SQL**  \n",
    "4. **Julia**  \n",
    "5. **Java**  \n",
    "6. **Scala**  \n",
    "7. **MATLAB**  \n",
    "8. **SAS**  \n",
    "9. **C++**  \n",
    "10. **JavaScript** "
   ]
  },
  {
   "cell_type": "markdown",
   "metadata": {},
   "source": [
    "# Data Science Libraries\n",
    "\n",
    "Here are some of the most popular libraries used in Data Science:\n",
    "\n",
    "## **Python Libraries**\n",
    "1. **Pandas** - Data manipulation and analysis.\n",
    "2. **NumPy** - Numerical computing.\n",
    "3. **Matplotlib** - Data visualization.\n",
    "5. **Scikit-learn** - Machine learning and modeling.\n",
    "6. **TensorFlow** - Deep learning and neural networks.\n",
    "\n",
    "## **R Libraries**\n",
    "1. **ggplot2** - Data visualization.\n",
    "2. **dplyr** - Data manipulation.\n",
    "4. **caret** - Machine learning.\n",
    "5. **shiny** - Interactive web applications.\n"
   ]
  },
  {
   "cell_type": "markdown",
   "metadata": {},
   "source": [
    "# Data Science Tools\n",
    "\n",
    "| Tool               | Category                | Description                                     |\n",
    "|--------------------|-------------------------|-------------------------------------------------|\n",
    "| Jupyter Notebook   | Development Environment | Interactive environment for coding and sharing notebooks. |\n",
    "| RStudio            | Development Environment | IDE for R programming and data analysis.       |\n",
    "| Apache Hadoop      | Big Data Framework      | Distributed storage and processing for big data.|\n",
    "| Apache Spark       | Big Data Framework      | In-memory distributed data processing.         |\n",
    "| Tableau            | Data Visualization      | Tool for creating interactive dashboards.      |\n",
    "| Power BI           | Data Visualization      | Business intelligence and analytics tool.      |\n",
    "| TensorFlow         | Machine Learning        | Framework for building and training neural networks. |\n",
    "| PyTorch            | Machine Learning        | Deep learning framework for building models.   |\n",
    "| MySQL              | Database                | Relational database management system.         |\n",
    "| PostgreSQL         | Database                | Open-source relational database.               |\n",
    "| Excel              | Data Analysis           | Spreadsheet software for basic analysis.       |\n",
    "\n"
   ]
  },
  {
   "cell_type": "markdown",
   "metadata": {},
   "source": [
    "# Arithmetic Expression Examples\n",
    "\n",
    "Arithmetic expressions are used to perform basic mathematical operations such as addition, subtraction, multiplication, and division. Here are some common examples:\n",
    "\n",
    "## Examples:\n",
    "1. **Addition**: `5 + 3 = 8`\n",
    "2. **Subtraction**: `10 - 4 = 6`\n",
    "3. **Multiplication**: `6 * 7 = 42`\n",
    "4. **Division**: `20 / 4 = 5`\n",
    "5. **Exponentiation**: `2 ** 3 = 8`\n",
    "6. **Modulo (remainder)**: `10 % 3 = 1`\n",
    "\n",
    "## In Python:\n",
    "You can write these operations directly in Python code:\n",
    "```python\n",
    "# Examples of arithmetic operations\n",
    "a = 5 + 3      # Addition\n",
    "b = 10 - 4     # Subtraction\n",
    "c = 6 * 7      # Multiplication\n",
    "d = 20 / 4     # Division\n",
    "e = 2 ** 3     # Exponentiation\n",
    "f = 10 % 3     # Modulo\n",
    "print(a, b, c, d, e, f)\n"
   ]
  },
  {
   "cell_type": "code",
   "execution_count": 2,
   "metadata": {},
   "outputs": [
    {
     "name": "stdout",
     "output_type": "stream",
     "text": [
      "The result of (num1 * num2) + num3 is: 25\n"
     ]
    }
   ],
   "source": [
    "# Multiply and add numbers\n",
    "# Define numbers\n",
    "num1 = 5\n",
    "num2 = 3\n",
    "num3 = 10\n",
    "\n",
    "# Perform multiplication and addition\n",
    "result = (num1 * num2) + num3\n",
    "\n",
    "# Print the result\n",
    "print(\"The result of (num1 * num2) + num3 is:\", result)\n"
   ]
  },
  {
   "cell_type": "code",
   "execution_count": 3,
   "metadata": {},
   "outputs": [
    {
     "name": "stdout",
     "output_type": "stream",
     "text": [
      "150 minutes is equal to 2.50 hours.\n"
     ]
    }
   ],
   "source": [
    "# Convert minutes to hours\n",
    "# Input: number of minutes\n",
    "minutes = 150\n",
    "\n",
    "# Conversion: 1 hour = 60 minutes\n",
    "hours = minutes / 60\n",
    "\n",
    "# Print the result\n",
    "print(f\"{minutes} minutes is equal to {hours:.2f} hours.\")\n"
   ]
  },
  {
   "cell_type": "markdown",
   "metadata": {},
   "source": [
    "# Objectives\n",
    "\n",
    "The key objectives of this task are:\n",
    "\n",
    "1. Understand the problem and its context.\n",
    "2. Identify and collect relevant data.\n",
    "3. Analyze the data to uncover insights.\n",
    "4. Apply appropriate models and techniques to solve the problem.\n",
    "5. Evaluate the results and refine the approach.\n",
    "6. Communicate findings effectively through visualization and reports.\n"
   ]
  },
  {
   "cell_type": "markdown",
   "metadata": {},
   "source": [
    "# Author\n",
    "\n",
    "**Name**: Manuel Cumplido\n",
    "**Role**: Data Scientist - Backend Developer\n",
    "**Date**: 14/Dec/2014\n"
   ]
  }
 ],
 "metadata": {
  "kernelspec": {
   "display_name": "Python 3 (ipykernel)",
   "language": "python",
   "name": "python3"
  },
  "language_info": {
   "codemirror_mode": {
    "name": "ipython",
    "version": 3
   },
   "file_extension": ".py",
   "mimetype": "text/x-python",
   "name": "python",
   "nbconvert_exporter": "python",
   "pygments_lexer": "ipython3",
   "version": "3.11.9"
  }
 },
 "nbformat": 4,
 "nbformat_minor": 4
}
